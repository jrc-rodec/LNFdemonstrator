{
 "cells": [
  {
   "cell_type": "code",
   "execution_count": null,
   "id": "87d2a97e",
   "metadata": {},
   "outputs": [],
   "source": [
    "import pandas as pd\n",
    "import fiona\n",
    "import geopandas as gpd\n",
    "from shapely.geometry import LineString, Point\n",
    "import osmnx  as ox\n",
    "import networkx as nx\n",
    "import numpy as np\n",
    "import folium\n",
    "import matplotlib.pyplot as plt\n",
    "ox.config(use_cache=True, log_console=True)\n",
    "import numpy as np\n",
    "import random as rand"
   ]
  },
  {
   "cell_type": "code",
   "execution_count": null,
   "id": "150dcd38",
   "metadata": {},
   "outputs": [],
   "source": [
    "#Load local road map of Dornbirn\n",
    "filepath = \"./data/dornbirn_hemi.graphml\"\n",
    "G = ox.load_graphml(filepath)\n",
    "# Get the edges/network as GeoDataFrame\n",
    "edges = ox.graph_to_gdfs(G, nodes=False)\n",
    "edges.crs"
   ]
  },
  {
   "cell_type": "code",
   "execution_count": null,
   "id": "ff2b3bee",
   "metadata": {},
   "outputs": [],
   "source": [
    "# # Alternatively download new map from OpenStreetMap\n",
    "#network = 'drive'\n",
    "#G = ox.graph_from_point((47.40518,9.74442),dist=5000,simplify=True, network_type= network, clean_periphery=True)\n",
    "## save graph\n",
    "#filepath = \"./data/dornbirn_hemi.graphml\"\n",
    "#ox.save_graphml(G, filepath)"
   ]
  },
  {
   "cell_type": "code",
   "execution_count": null,
   "id": "ad21ed61",
   "metadata": {},
   "outputs": [],
   "source": [
    "# Plot road map\n",
    "G=G.to_undirected()\n",
    "ox.plot_graph(G, bgcolor='w')"
   ]
  },
  {
   "cell_type": "code",
   "execution_count": null,
   "id": "fdca8458",
   "metadata": {},
   "outputs": [],
   "source": [
    "## Check coordinate system of graph as Geodataframe\n",
    "Ggdf=ox.graph_to_gdfs(G)\n",
    "# \n",
    "# pG = ox.project_graph(G,to_crs='epsg:4326')\n",
    "# pGgdf=ox.graph_to_gdfs(pG)\n",
    "Ggdf[0].crs"
   ]
  },
  {
   "cell_type": "markdown",
   "id": "437cfba9",
   "metadata": {},
   "source": [
    "## Build data frame of locations in Dornbirn\n",
    "- including the pairwise shortest distances\n",
    "- including the pairwise shortest path connections"
   ]
  },
  {
   "cell_type": "code",
   "execution_count": null,
   "id": "7e194a2c",
   "metadata": {},
   "outputs": [],
   "source": [
    "# Build data frame of locations in Dornbirn\n",
    "name=['FH Vorarlberg','Messepark','Bahnhof','Kapelle Mühlebach','Spielboden','Oberfallenberg','Olympiazentrum','VS Wallenmahd','H. Gmeiner Park', 'Friedhof Rohrbach']\n",
    "latitude=[47.40518,47.41080,47.41692,47.39615,47.42151,47.42219,47.42010,47.39259,47.40391,47.42497]\n",
    "longitude=[9.74442,9.71260,9.73912,9.74429,9.73575, 9.76998, 9.72072,9.73299,9.72576,9.72651]\n",
    "\n",
    "df_stops = pd.DataFrame(\n",
    "    {'Name' : name,\n",
    "     'latitude' : latitude,\n",
    "     'longitude' : longitude\n",
    "    })\n",
    "df_stops.head()\n",
    "\n",
    "# number of locations\n",
    "n = len(name)\n",
    "print(n,df_stops)"
   ]
  },
  {
   "cell_type": "code",
   "execution_count": null,
   "id": "8259350d",
   "metadata": {},
   "outputs": [],
   "source": [
    "## Compute closest graph nodes in G associated with the locations in the dataframe above\n",
    "# coordinates to list\n",
    "locationlist = df_stops[['latitude', 'longitude']].values.tolist()\n",
    "locationlist\n",
    "# convert coordinates to Geoseries Point objects in Graph related coordinate system\n",
    "pointlist=[Point(l) for l in locationlist]\n",
    "pts = gpd.GeoSeries(pointlist, crs='epsg:4326')\n",
    "# identify nearest nodes to Point objects in road map graph G\n",
    "nearest_nodes = [ox.distance.nearest_nodes(G, pt.y, pt.x, return_dist=0) for pt in pts]\n",
    "nearest_nodes"
   ]
  },
  {
   "cell_type": "code",
   "execution_count": null,
   "id": "1de1719c",
   "metadata": {},
   "outputs": [],
   "source": [
    "# Compute pairwise distances and corresponding paths between all locations with respect to the graph G and add them to the dataframe\n",
    "Dist=list()\n",
    "Path=list()\n",
    "for i in range(0,n):\n",
    "    orig=nearest_nodes[i]\n",
    "    leng=list()\n",
    "    path=list()\n",
    "    for j in range(0,n):\n",
    "        dest=nearest_nodes[j]\n",
    "        if i==j:\n",
    "            leng.append(0)\n",
    "            path.append(nx.subgraph(G,ox.distance.shortest_path(G,orig,dest)))\n",
    "        else:\n",
    "            leng.append(nx.shortest_path_length(G, source=orig, target=dest, weight='length'))\n",
    "            path.append(nx.subgraph(G,ox.distance.shortest_path(G,orig,dest)))\n",
    "    Dist.append(leng)\n",
    "    Path.append(path)\n",
    "# Convert into symmetrical matrix and add to dataframe\n",
    "D=np.eye(n)\n",
    "for i in range(0,n):\n",
    "    for j in range(i,n):\n",
    "        D[i,j]=Dist[i][j]\n",
    "Dt=D.transpose()\n",
    "D=D+Dt\n",
    "# round distances\n",
    "D=np.round(D,0).tolist()\n",
    "\n",
    "# use symmetric path representations\n",
    "for j in range(0,n):\n",
    "    for i in range(0,j+1):\n",
    "        Path[i][j]=Path[j][i]\n",
    "\n",
    "# write to dataframe\n",
    "for k in range(0,n):\n",
    "    df_stops['dist_to_loc' + str(k)]=D[k]\n",
    "for k in range(0,n):\n",
    "    df_stops['path_to_loc' + str(k)]=Path[k]\n"
   ]
  },
  {
   "cell_type": "code",
   "execution_count": null,
   "id": "fc2aab59",
   "metadata": {},
   "outputs": [],
   "source": [
    "df_stops.head()"
   ]
  },
  {
   "cell_type": "markdown",
   "id": "2eecc8b6",
   "metadata": {},
   "source": [
    "## Tour creation and visualization"
   ]
  },
  {
   "cell_type": "code",
   "execution_count": null,
   "id": "ed207620",
   "metadata": {},
   "outputs": [],
   "source": [
    "# determine the subgraph of G for a given path (based on the distances in the dataframe)\n",
    "def gatherSubgraph(tour,df,G):\n",
    "    n=len(tour)\n",
    "    tour.append(0)\n",
    "    subgraph=list()\n",
    "    for i in range(0,n):\n",
    "        subpath=df.iloc[tour[i],13+tour[i+1]]\n",
    "        subgraph = subgraph + list(subpath.nodes)\n",
    "    sG = nx.subgraph(G,subgraph)\n",
    "    return sG"
   ]
  },
  {
   "cell_type": "code",
   "execution_count": null,
   "id": "9b2de2eb",
   "metadata": {},
   "outputs": [],
   "source": [
    "# Demo: subgraph in G corresponding to path and df\n",
    "tour = [0,3,7,6,1,8,9,4,2,5,1] #ner optimal: [0, 2, 5, 4, 9, 6, 1, 8, 7, 3]\n",
    "sG=gatherSubgraph(tour,df_stops,G)\n",
    "sG"
   ]
  },
  {
   "cell_type": "code",
   "execution_count": null,
   "id": "dd5426f7",
   "metadata": {},
   "outputs": [],
   "source": [
    "# printing routine for graph and subgraph (tour)\n",
    "def PrintRoute(sG,df_stops,G):\n",
    "    locationlist = df_stops[['latitude', 'longitude']].values.tolist()\n",
    "    map0=folium.Map(location=locationlist[0], zoom_start=11)\n",
    "    mapx=ox.folium.plot_graph_folium(G, graph_map=map0, popup_attribute=None, tiles='cartodbpositron', fit_bounds=True, color='blue', weight=1, opacity=0.6)\n",
    "    map=ox.folium.plot_graph_folium(sG, graph_map=mapx, popup_attribute=None, tiles='cartodbpositron', fit_bounds=True,  color='red', weight=2, opacity=1)\n",
    "    for point in range(0, len(locationlist)):\n",
    "        if point == 0:\n",
    "            folium.Marker(locationlist[point], popup=df_stops['Name'][point],icon=folium.Icon(color=\"red\", icon=\"info-sign\")).add_to(map)\n",
    "        else:\n",
    "            folium.Marker(locationlist[point], popup=df_stops['Name'][point],icon=folium.Icon(color=\"green\")).add_to(map)\n",
    "    map.fit_bounds(map.get_bounds(), padding=(10, 10))\n",
    "    return map"
   ]
  },
  {
   "cell_type": "code",
   "execution_count": null,
   "id": "672de48f",
   "metadata": {},
   "outputs": [],
   "source": [
    "PrintRoute(sG,df_stops,G)"
   ]
  },
  {
   "cell_type": "markdown",
   "id": "af929df7",
   "metadata": {},
   "source": [
    "## GA for TSP\n",
    "The follwoing cells contain the subroutines of the Genetic Algorithm (GA) used to determine an (near) optimal tour."
   ]
  },
  {
   "cell_type": "code",
   "execution_count": null,
   "id": "d585dbd8",
   "metadata": {},
   "outputs": [],
   "source": [
    "# Objective function measureing the tour length in meters [m]\n",
    "def objFun(tour,df):\n",
    "    tourn=tour.copy()\n",
    "    tourn.append(0)\n",
    "    dist=0\n",
    "    for i in range(0,len(tourn)-1):\n",
    "        dist = dist + df.iloc[tourn[i],3+tourn[i+1]]\n",
    "    return dist"
   ]
  },
  {
   "cell_type": "code",
   "execution_count": null,
   "id": "e4cbcfd4",
   "metadata": {},
   "outputs": [],
   "source": [
    "print(tour)\n",
    "tour_len=objFun(tour,df_stops)\n",
    "print(tour_len)"
   ]
  },
  {
   "cell_type": "code",
   "execution_count": null,
   "id": "ef8a2952",
   "metadata": {},
   "outputs": [],
   "source": [
    "# mutation operator used within the GA to randomly vary two consecutive stops of a tour\n",
    "def mutate(tour):\n",
    "    ntour=tour.copy()\n",
    "    idx = np.random.randint(1, len(tour)-1)\n",
    "    ntour[idx], ntour[idx+1] = ntour[idx+1], ntour[idx]\n",
    "    return ntour\n",
    "\n",
    "# demo:\n",
    "tour1 = [0,4,5,1,2,3,6,7,8,9]\n",
    "tour2 = [0,3,4,2,1,5,7,6,9,8]\n",
    "print(tour1,tour2)\n",
    "\n",
    "mutated_tour=mutate(tour1)\n",
    "print(mutated_tour)"
   ]
  },
  {
   "cell_type": "code",
   "execution_count": null,
   "id": "20e42674",
   "metadata": {},
   "outputs": [],
   "source": [
    "# (ordered) crossover operator to recombine two potential tours within the GA\n",
    "def crx_tours(tourA,tourB):\n",
    "    n=len(tourB)\n",
    "    new_tourA= [0] * n\n",
    "    new_tourB= [0] * n\n",
    "    # determine center of cut-points\n",
    "    idx = np.random.randint(2,n-1)\n",
    "    keep = [0,idx-1,idx,idx+1]\n",
    "    nlist=list(range(n))\n",
    "    change_p = [val for val in nlist if val not in keep and val > idx]\n",
    "    change_n = [val for val in nlist if val not in keep and val < idx]\n",
    "    for i in keep:\n",
    "        new_tourA[i]=tourA[i]\n",
    "        new_tourB[i]=tourB[i]\n",
    "    for i in change_p:\n",
    "        vals1 = [val for val in tourB if val not in new_tourA]\n",
    "        new_tourA[i] = vals1[0]\n",
    "        vals2 = [val for val in tourA if val not in new_tourB]\n",
    "        new_tourB[i] = vals2[0]\n",
    "    for i in change_n:\n",
    "        vals1 = [val for val in tourB if val not in new_tourA]\n",
    "        new_tourA[i] = vals1[0]\n",
    "        vals2 = [val for val in tourA if val not in new_tourB]\n",
    "        new_tourB[i] = vals2[0]\n",
    "    return new_tourA,new_tourB\n",
    "\n",
    "#demo:\n",
    "print(tour1,tour2)\n",
    "crossed_tour1,crossed_tour2 = crx_tours(tour1, tour2)\n",
    "print(crossed_tour1,crossed_tour2)"
   ]
  },
  {
   "cell_type": "code",
   "execution_count": null,
   "id": "07ccf2e4",
   "metadata": {},
   "outputs": [],
   "source": [
    "initial_tour =[0,1,2,3,4,5,6,7,8,9]\n",
    "initial_tour_len = objFun(initial_tour,df_stops)\n",
    "# GA for TSP implementation\n",
    "def ga4tsp(df,pop_size,iter_n):\n",
    "    parent=initial_tour\n",
    "    n=len(parent)\n",
    "    best = objFun(parent,df)\n",
    "    par=parent.copy()\n",
    "    for j in range(0,iter_n):\n",
    "        Offsp=list()\n",
    "        Eval=list()\n",
    "        for i in range(0,pop_size):\n",
    "            test=mutate(par)\n",
    "            Offsp.append(test.copy())\n",
    "            Eval.append(objFun(Offsp[i],df))\n",
    "        idx = np.argsort(Eval)\n",
    "        par1=Offsp[idx[0]]\n",
    "        par2=Offsp[idx[1]]\n",
    "        val1=Eval[idx[0]]\n",
    "        val2=Eval[idx[1]]\n",
    "        parA,parB = crx_tours(par1,par2)\n",
    "        val3 =objFun(parA,df)\n",
    "        val4 =objFun(parB,df)\n",
    "        listv=[val1,val2,val3,val4]\n",
    "        pop = [par1,par2,parA,parB]\n",
    "        ev=np.argmin(listv)\n",
    "        if listv[ev] <= best:\n",
    "            best = listv[ev]\n",
    "            bestp = pop[ev]\n",
    "        par=pop[ev]    \n",
    "        # print(par,best)            \n",
    "    return bestp, best"
   ]
  },
  {
   "cell_type": "code",
   "execution_count": null,
   "id": "190a8a3f",
   "metadata": {},
   "outputs": [],
   "source": [
    "# run GA\n",
    "final_tour, final_tour_len=ga4tsp(df_stops,10,500)"
   ]
  },
  {
   "cell_type": "code",
   "execution_count": null,
   "id": "c289d979",
   "metadata": {},
   "outputs": [],
   "source": [
    "print(initial_tour,initial_tour_len)\n",
    "print(final_tour,final_tour_len)"
   ]
  },
  {
   "cell_type": "markdown",
   "id": "86772033",
   "metadata": {},
   "source": [
    "### Comparison of initial and final tour"
   ]
  },
  {
   "cell_type": "code",
   "execution_count": null,
   "id": "c5778d03",
   "metadata": {},
   "outputs": [],
   "source": [
    "# visualization of initial tour\n",
    "initialG = gatherSubgraph(initial_tour,df_stops,G)\n",
    "PrintRoute(initialG,df_stops,G)"
   ]
  },
  {
   "cell_type": "code",
   "execution_count": null,
   "id": "fe75bafc",
   "metadata": {},
   "outputs": [],
   "source": [
    "# visualization of final tour\n",
    "finalG = gatherSubgraph(final_tour,df_stops,G)\n",
    "PrintRoute(finalG,df_stops,G)"
   ]
  },
  {
   "cell_type": "code",
   "execution_count": null,
   "id": "2d01c389",
   "metadata": {},
   "outputs": [],
   "source": []
  }
 ],
 "metadata": {
  "kernelspec": {
   "display_name": "Python 3 (ipykernel)",
   "language": "python",
   "name": "python3"
  },
  "language_info": {
   "codemirror_mode": {
    "name": "ipython",
    "version": 3
   },
   "file_extension": ".py",
   "mimetype": "text/x-python",
   "name": "python",
   "nbconvert_exporter": "python",
   "pygments_lexer": "ipython3",
   "version": "3.8.12"
  }
 },
 "nbformat": 4,
 "nbformat_minor": 5
}
